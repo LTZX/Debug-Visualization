{
 "cells": [
  {
   "cell_type": "code",
   "execution_count": 39,
   "metadata": {},
   "outputs": [],
   "source": [
    "import numpy as np\n",
    "import os\n",
    "\n",
    "fname = 'method.txt'\n",
    "with open(fname, 'r') as f:\n",
    "    contents = f.readlines()\n",
    "\n",
    "ret = np.array([])\n",
    "for c in contents:\n",
    "    methodID = c.split(' ')[0]\n",
    "    rest = c.split(' ')[1]\n",
    "    methodName = rest.split('\\\\n')[0]\n",
    "    methodType = rest.split('\\\\n')[-1]\n",
    "    rest = rest.split('\\\\n')[2]\n",
    "    rest = rest[1:-1]\n",
    "    filePath = rest.split(':')[0]\n",
    "    lineStart = rest.split(':')[1]\n",
    "    myroot = '/home/ymzhang/Dropbox/ECS260/project/LTZX.github.io/callgraph/'\n",
    "    filePath = filePath[len(myroot):]\n",
    "    fileDir = os.path.dirname(filePath)\n",
    "    fileName = filePath.split('/')[-1]\n",
    "    row = np.array([methodName, fileName, fileDir, lineStart, methodID])\n",
    "    ret = np.append(ret, row)\n",
    "ret = ret.reshape((-1,5))\n",
    "np.savetxt(\"method.csv\", ret, delimiter=\",\", fmt='%s')\n",
    "\n",
    "fname = 'relation.txt'\n",
    "with open(fname, 'r') as f:\n",
    "    contents = f.readlines()\n",
    "\n",
    "ret = np.array([])\n",
    "for c in contents:\n",
    "    fromID = c.split(' ')[0]\n",
    "    toID = c.split(' ')[1]\n",
    "    if int(fromID) >= 21 and int(toID) >= 21:\n",
    "        row = np.array([fromID, toID])\n",
    "        ret = np.append(ret, row)\n",
    "ret = ret.reshape((-1,2))\n",
    "np.savetxt(\"relation.csv\", ret, delimiter=\",\", fmt='%s')"
   ]
  },
  {
   "cell_type": "code",
   "execution_count": null,
   "metadata": {},
   "outputs": [],
   "source": []
  }
 ],
 "metadata": {
  "kernelspec": {
   "display_name": "Python 3",
   "language": "python",
   "name": "python3"
  },
  "language_info": {
   "codemirror_mode": {
    "name": "ipython",
    "version": 3
   },
   "file_extension": ".py",
   "mimetype": "text/x-python",
   "name": "python",
   "nbconvert_exporter": "python",
   "pygments_lexer": "ipython3",
   "version": "3.6.4"
  }
 },
 "nbformat": 4,
 "nbformat_minor": 2
}
