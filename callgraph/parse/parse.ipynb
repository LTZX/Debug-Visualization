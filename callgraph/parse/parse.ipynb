{
 "cells": [
  {
   "cell_type": "code",
   "execution_count": 13,
   "metadata": {},
   "outputs": [],
   "source": [
    "import numpy as np\n",
    "import os\n",
    "\n",
    "def nextGreater(n, nums):\n",
    "    ret = 10000\n",
    "    for num in nums:\n",
    "        if num > n:\n",
    "            ret = min(ret, num)\n",
    "    return ret - 1"
   ]
  },
  {
   "cell_type": "code",
   "execution_count": 14,
   "metadata": {},
   "outputs": [],
   "source": [
    "# get method in csv\n",
    "# columns : methodName, fileName, fileDir, lineStart, lineEnd, methodNumLines, fileNumLines, methodID\n",
    "\n",
    "fname = 'method.txt'\n",
    "with open(fname, 'r') as f:\n",
    "    contents = f.readlines()\n",
    "\n",
    "ret = np.array([])\n",
    "for c in contents:\n",
    "    methodID = c.split(' ')[0]\n",
    "    rest = c.split(' ')[1]\n",
    "    methodName = rest.split('\\\\n')[0]\n",
    "    methodType = rest.split('\\\\n')[-1]\n",
    "    rest = rest.split('\\\\n')[2]\n",
    "    rest = rest[1:-1]\n",
    "    filePath = rest.split(':')[0]\n",
    "    lineStart = rest.split(':')[1]\n",
    "    numLines = sum(1 for line in open(filePath))\n",
    "    myroot = '/home/ymzhang/Dropbox/ECS260/project/LTZX.github.io/callgraph/'\n",
    "    filePath = filePath[len(myroot):]\n",
    "    fileDir = os.path.dirname(filePath)\n",
    "    fileName = filePath.split('/')[-1]\n",
    "    row = np.array([methodName, fileName, fileDir, lineStart, '', '', str(numLines), methodID])\n",
    "    ret = np.append(ret, row)\n",
    "ret = ret.reshape((-1,8))\n",
    "\n",
    "d = {}\n",
    "for row in ret:\n",
    "    name = row[1]\n",
    "    start = int(row[3])\n",
    "    if name in d:\n",
    "        d[name] += [start]\n",
    "    else:\n",
    "        d[name] = [start]\n",
    "        \n",
    "for row in ret:\n",
    "    name = row[1]\n",
    "    start = int(row[3])\n",
    "    end = nextGreater(start, d[name])\n",
    "    end = min(end, int(row[6]))\n",
    "    row[5] = str(end - start + 1)\n",
    "    row[4] = str(end)\n",
    "    \n",
    "np.savetxt(\"method.csv\", ret, delimiter=\",\", fmt='%s')"
   ]
  },
  {
   "cell_type": "code",
   "execution_count": 15,
   "metadata": {},
   "outputs": [],
   "source": [
    "# get relation in csv\n",
    "\n",
    "fname = 'relation.txt'\n",
    "with open(fname, 'r') as f:\n",
    "    contents = f.readlines()\n",
    "\n",
    "ret = np.array([])\n",
    "for c in contents:\n",
    "    fromID = c.split(' ')[0]\n",
    "    toID = c.split(' ')[1]\n",
    "    if int(fromID) >= 21 and int(toID) >= 21:\n",
    "        row = np.array([fromID, toID])\n",
    "        ret = np.append(ret, row)\n",
    "ret = ret.reshape((-1,2))\n",
    "np.savetxt(\"relation.csv\", ret, delimiter=\",\", fmt='%s')"
   ]
  }
 ],
 "metadata": {
  "kernelspec": {
   "display_name": "Python 3",
   "language": "python",
   "name": "python3"
  },
  "language_info": {
   "codemirror_mode": {
    "name": "ipython",
    "version": 3
   },
   "file_extension": ".py",
   "mimetype": "text/x-python",
   "name": "python",
   "nbconvert_exporter": "python",
   "pygments_lexer": "ipython3",
   "version": "3.6.4"
  }
 },
 "nbformat": 4,
 "nbformat_minor": 2
}
